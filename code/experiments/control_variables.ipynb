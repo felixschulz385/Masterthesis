{
 "cells": [
  {
   "cell_type": "code",
   "execution_count": 2,
   "metadata": {},
   "outputs": [],
   "source": [
    "import numpy as np\n",
    "import pandas as pd"
   ]
  },
  {
   "cell_type": "code",
   "execution_count": 2,
   "metadata": {},
   "outputs": [],
   "source": [
    "# import gdp\n",
    "gdp = pd.read_csv('/Users/felixschulz/Library/CloudStorage/OneDrive-Personal/Dokumente/Uni/Masterthesis/data/misc/raw/gdp.csv')\n",
    "gdp_old = pd.read_csv('/Users/felixschulz/Library/CloudStorage/OneDrive-Personal/Dokumente/Uni/Masterthesis/data/misc/raw/gdp_old.csv')\n",
    "\n",
    "## combine: take old data until 2001 and new data from 2002; link at gdp in 2002\n",
    "t_linkage = pd.merge(gdp_old.query(\"ano == 2002\").set_index(\"id_municipio\").pib, gdp.query(\"ano == 2002\").set_index(\"id_municipio\").pib, left_index=True, right_index=True)\n",
    "t_linkage = (t_linkage.pib_x / t_linkage.pib_y).to_dict()\n",
    "gdp_old[\"pib_linked\"] = gdp_old.apply(lambda x: x.pib * t_linkage[x.id_municipio] if x.id_municipio in t_linkage else np.nan, axis=1)\n",
    "gdp_combined = pd.concat([gdp_old.query(\"ano < 2002\"), gdp.query(\"ano >= 2002\")]).reset_index(drop=True)\n",
    "\n",
    "# create variables\n",
    "gdp_combined[\"gdp\"] = gdp_combined[\"pib_linked\"].fillna(gdp_combined[\"pib\"])\n",
    "gdp_combined[\"gva_share_agriculture\"] = gdp_combined[\"va_agropecuaria\"] / gdp_combined[\"va\"]\n",
    "gdp_combined[\"gva_share_industry\"] = gdp_combined[\"va_industria\"] / gdp_combined[\"va\"]\n",
    "gdp_combined[\"gva_share_services\"] = gdp_combined[\"va_servicos\"] / gdp_combined[\"va\"]\n",
    "gdp_combined[\"gva_share_public\"] = gdp_combined[\"va_adespss\"] / gdp_combined[\"va\"]\n",
    "gdp_combined[\"year\"] = gdp_combined[\"ano\"]\n",
    "gdp_combined[\"CC_2\"] = gdp_combined[\"id_municipio\"]\n",
    "gdp_combined[\"CC_2r\"] = gdp_combined[\"CC_2\"].astype(str).str.slice(0, 6).astype(int)\n",
    "\n",
    "# clean\n",
    "gdp_combined = gdp_combined[[\"CC_2r\", \"year\", \"gdp\", \"gva_share_agriculture\", \"gva_share_industry\", \"gva_share_services\", \"gva_share_public\"]].dropna()"
   ]
  },
  {
   "cell_type": "code",
   "execution_count": 4,
   "metadata": {},
   "outputs": [],
   "source": [
    "import numpy as np\n",
    "import pandas as pd\n",
    "from sklearn.linear_model import LinearRegression\n",
    "from sklearn.metrics import mean_squared_error\n",
    "import statsmodels.api as sm\n",
    "\n",
    "def sliding_window_linear_regression(series):\n",
    "    n = len(series)\n",
    "    window_size = n // 2\n",
    "    coefficients = []\n",
    "\n",
    "    # Fit linear models in sliding windows\n",
    "    for start in range(0, n - window_size + 1, 1):\n",
    "        end = start + window_size\n",
    "        window_data = series.iloc[start:end]\n",
    "        X = sm.add_constant(window_data.index.values.reshape(-1, 1))  # Add intercept\n",
    "        y = window_data.values\n",
    "        model = sm.OLS(y, X).fit()\n",
    "        coefficients.append(model.params)\n",
    "\n",
    "    return np.median(coefficients, axis=0)\n",
    "\n",
    "def adjust_magnitudes(series, threshold=1.5):\n",
    "    if len(series) < 2:  # Not enough data to adjust\n",
    "        return series\n",
    "\n",
    "    model_coefs = sliding_window_linear_regression(series)\n",
    "    X_full = sm.add_constant(series.index.values.reshape(-1, 1))  # Add intercept\n",
    "    predictions = np.dot(X_full, model_coefs)\n",
    "    residuals = series - predictions\n",
    "\n",
    "    # Calculate IQR for residuals\n",
    "    Q1 = np.percentile(residuals, 25)\n",
    "    Q3 = np.percentile(residuals, 75)\n",
    "    IQR = Q3 - Q1\n",
    "\n",
    "    # Identify outliers\n",
    "    lower_bound = Q1 - threshold * IQR\n",
    "    upper_bound = Q3 + threshold * IQR\n",
    "\n",
    "    # Adjust outliers\n",
    "    adjusted_series = series.copy()\n",
    "    for i, residual in enumerate(residuals):\n",
    "        if residual < lower_bound or residual > upper_bound:\n",
    "            adjusted_series.iat[i] = predictions[i]  # Adjust to fitted value\n",
    "\n",
    "    return adjusted_series"
   ]
  },
  {
   "cell_type": "code",
   "execution_count": 5,
   "metadata": {},
   "outputs": [],
   "source": [
    "for col in [\"gdp\", \"gva_share_agriculture\", \"gva_share_industry\", \"gva_share_services\", \"gva_share_public\"]:\n",
    "    gdp_combined[col] = gdp_combined.groupby(\"CC_2r\")[col].transform(adjust_magnitudes)"
   ]
  },
  {
   "cell_type": "code",
   "execution_count": 212,
   "metadata": {},
   "outputs": [],
   "source": [
    "gdp_combined.to_parquet('/Users/felixschulz/Library/CloudStorage/OneDrive-Personal/Dokumente/Uni/Masterthesis/data/misc/raw/gdp_processed.parquet', index=False)"
   ]
  },
  {
   "cell_type": "markdown",
   "metadata": {},
   "source": [
    "---"
   ]
  },
  {
   "cell_type": "code",
   "execution_count": 3,
   "metadata": {},
   "outputs": [],
   "source": [
    "education = pd.read_csv(\"/Users/felixschulz/Library/CloudStorage/OneDrive-Personal/Dokumente/Uni/Masterthesis/data/misc/raw/education.csv\")\n",
    "education[\"CC_2r\"] = education[\"id_municipio\"].astype(str).str.slice(0, 6).astype(int)\n",
    "education[\"year\"] = education[\"ano\"]"
   ]
  },
  {
   "cell_type": "code",
   "execution_count": 4,
   "metadata": {},
   "outputs": [],
   "source": [
    "education = education.groupby([\"CC_2r\", \"year\"], as_index = False).agg({\"ideb\": \"mean\"}).sort_values([\"CC_2r\", \"year\"])"
   ]
  },
  {
   "cell_type": "code",
   "execution_count": 38,
   "metadata": {},
   "outputs": [],
   "source": [
    "# Identify the range of years\n",
    "min_year = education['year'].min()\n",
    "max_year = education['year'].max()\n",
    "\n",
    "# Identify all unique IDs\n",
    "ids = education['CC_2r'].unique()\n",
    "\n",
    "# Create a complete DataFrame with all years for each ID\n",
    "all_years = pd.DataFrame({\n",
    "    'year': range(min_year, max_year + 1)\n",
    "})\n",
    "all_ids_years = all_years.assign(key=1).merge(pd.DataFrame({'CC_2r': ids, 'key': 1}), on='key').drop('key', axis=1)\n",
    "\n",
    "# Merge with the original data\n",
    "education_full = pd.merge(all_ids_years, education, on=['CC_2r', 'year'], how='left')\n",
    "\n",
    "# Perform linear interpolation\n",
    "education_full[\"educ_ideb\"] = education_full.groupby('CC_2r')[\"ideb\"].transform(lambda group: group.interpolate())"
   ]
  },
  {
   "cell_type": "code",
   "execution_count": 185,
   "metadata": {},
   "outputs": [],
   "source": [
    "education_full.to_parquet('/Users/felixschulz/Library/CloudStorage/OneDrive-Personal/Dokumente/Uni/Masterthesis/data/misc/raw/education_processed.parquet', index=False)"
   ]
  },
  {
   "cell_type": "markdown",
   "metadata": {},
   "source": [
    "---"
   ]
  },
  {
   "cell_type": "code",
   "execution_count": 217,
   "metadata": {},
   "outputs": [],
   "source": [
    "health = pd.read_csv(\"/Users/felixschulz/Library/CloudStorage/OneDrive-Personal/Dokumente/Uni/Masterthesis/data/misc/raw/ieps_health.csv\")\n",
    "health[\"CC_2r\"] = health[\"id_municipio\"].astype(str).str.slice(0, 6).astype(int)\n",
    "health[\"year\"] = health[\"ano\"]"
   ]
  },
  {
   "cell_type": "code",
   "execution_count": 218,
   "metadata": {},
   "outputs": [],
   "source": [
    "health = health[[\"CC_2r\", \"year\", \"cob_ab\", \"tx_med_ch\"]].copy()\n",
    "health.rename(columns={\"cob_ab\": \"health_primary_care_coverage\", \"tx_med_ch\": \"health_doctors_1000\"}, inplace=True)"
   ]
  },
  {
   "cell_type": "code",
   "execution_count": 221,
   "metadata": {},
   "outputs": [],
   "source": [
    "health[\"health_primary_care_coverage\"] = health[\"health_primary_care_coverage\"] / 100"
   ]
  },
  {
   "cell_type": "code",
   "execution_count": 222,
   "metadata": {},
   "outputs": [],
   "source": [
    "health.to_parquet('/Users/felixschulz/Library/CloudStorage/OneDrive-Personal/Dokumente/Uni/Masterthesis/data/misc/raw/health_processed.parquet', index=False)"
   ]
  },
  {
   "cell_type": "markdown",
   "metadata": {},
   "source": [
    "---"
   ]
  },
  {
   "cell_type": "code",
   "execution_count": 226,
   "metadata": {},
   "outputs": [],
   "source": [
    "vaccinations = pd.read_csv(\"/Users/felixschulz/Library/CloudStorage/OneDrive-Personal/Dokumente/Uni/Masterthesis/data/misc/raw/vaccinations.csv\")\n",
    "vaccinations[\"CC_2r\"] = vaccinations[\"id_municipio\"].astype(str).str.slice(0, 6).astype(int)\n",
    "vaccinations[\"year\"] = vaccinations[\"ano\"]\n",
    "vaccinations.sort_values([\"CC_2r\", \"year\"], inplace=True)"
   ]
  },
  {
   "cell_type": "code",
   "execution_count": 227,
   "metadata": {},
   "outputs": [],
   "source": [
    "# calculate rolling average of 5 years\n",
    "for col in [\"cobertura_febre_amarela\", \"cobertura_haemophilus_influenza_b\", \"cobertura_hepatite_a\", \"cobertura_hepatite_b\", \"cobertura_poliomielite\"]:\n",
    "    vaccinations[col + \"_5y\"] = vaccinations.groupby(\"CC_2r\")[col].transform(lambda x: x.rolling(5, min_periods=1).mean())"
   ]
  },
  {
   "cell_type": "code",
   "execution_count": 228,
   "metadata": {},
   "outputs": [],
   "source": [
    "# calculate index of all vaccinations\n",
    "vaccinations[\"vaccination_index\"] = vaccinations[[\"cobertura_febre_amarela\", \"cobertura_haemophilus_influenza_b\", \"cobertura_hepatite_a\", \"cobertura_hepatite_b\", \"cobertura_poliomielite\"]].mean(axis=1) / 100\n",
    "vaccinations[\"vaccination_index_5y\"] = vaccinations[[\"cobertura_febre_amarela_5y\", \"cobertura_haemophilus_influenza_b_5y\", \"cobertura_hepatite_a_5y\", \"cobertura_hepatite_b_5y\", \"cobertura_poliomielite_5y\"]].mean(axis=1) / 100"
   ]
  },
  {
   "cell_type": "code",
   "execution_count": 229,
   "metadata": {},
   "outputs": [],
   "source": [
    "vaccinations[['CC_2r', 'year', 'vaccination_index', 'vaccination_index_5y']].to_parquet('/Users/felixschulz/Library/CloudStorage/OneDrive-Personal/Dokumente/Uni/Masterthesis/data/misc/raw/vaccinations_processed.parquet', index=False)"
   ]
  },
  {
   "cell_type": "markdown",
   "metadata": {},
   "source": [
    "---"
   ]
  },
  {
   "cell_type": "code",
   "execution_count": 9,
   "metadata": {},
   "outputs": [],
   "source": [
    "sanitation = pd.read_csv(\"/Users/felixschulz/Library/CloudStorage/OneDrive-Personal/Dokumente/Uni/Masterthesis/data/misc/raw/sanitation.csv\")\n",
    "sanitation[\"CC_2r\"] = sanitation[\"id_municipio\"].astype(str).str.slice(0, 6).astype(int)\n",
    "sanitation[\"year\"] = sanitation[\"ano\"]"
   ]
  },
  {
   "cell_type": "code",
   "execution_count": 10,
   "metadata": {},
   "outputs": [],
   "source": [
    "sanitation = sanitation[[\"CC_2r\", \"year\", \"populacao_urbana\", \"populacao_urbana_atendida_agua\", \"populacao_urbana_residente_esgoto\"]].copy()\n",
    "sanitation.rename(columns={\"populacao_urbana\": \"urban_population\", \"populacao_urbana_atendida_agua\": \"urban_population_served_water\", \"populacao_urbana_residente_esgoto\": \"population_with_sewage\"}, inplace=True)"
   ]
  },
  {
   "cell_type": "code",
   "execution_count": 11,
   "metadata": {},
   "outputs": [],
   "source": [
    "sanitation.sort_values([\"CC_2r\", \"year\"], inplace=True)"
   ]
  },
  {
   "cell_type": "code",
   "execution_count": 13,
   "metadata": {},
   "outputs": [],
   "source": [
    "sanitation.to_parquet('/Users/felixschulz/Library/CloudStorage/OneDrive-Personal/Dokumente/Uni/Masterthesis/data/misc/raw/sanitation_processed.parquet', index=False)"
   ]
  },
  {
   "cell_type": "markdown",
   "metadata": {},
   "source": [
    "---"
   ]
  },
  {
   "cell_type": "code",
   "execution_count": 14,
   "metadata": {},
   "outputs": [],
   "source": [
    "gdp_combined = pd.read_parquet('/Users/felixschulz/Library/CloudStorage/OneDrive-Personal/Dokumente/Uni/Masterthesis/data/misc/raw/gdp_processed.parquet')\n",
    "education = pd.read_parquet('/Users/felixschulz/Library/CloudStorage/OneDrive-Personal/Dokumente/Uni/Masterthesis/data/misc/raw/education_processed.parquet')\n",
    "health = pd.read_parquet('/Users/felixschulz/Library/CloudStorage/OneDrive-Personal/Dokumente/Uni/Masterthesis/data/misc/raw/health_processed.parquet')\n",
    "vaccinations = pd.read_parquet('/Users/felixschulz/Library/CloudStorage/OneDrive-Personal/Dokumente/Uni/Masterthesis/data/misc/raw/vaccinations_processed.parquet')\n",
    "sanitation = pd.read_parquet('/Users/felixschulz/Library/CloudStorage/OneDrive-Personal/Dokumente/Uni/Masterthesis/data/misc/raw/sanitation_processed.parquet')"
   ]
  },
  {
   "cell_type": "code",
   "execution_count": 16,
   "metadata": {},
   "outputs": [],
   "source": [
    "# combine\n",
    "data = pd.merge(gdp_combined, education, on=[\"CC_2r\", \"year\"], how=\"outer\")\n",
    "data = pd.merge(data, health, on=[\"CC_2r\", \"year\"], how=\"outer\")\n",
    "data = pd.merge(data, vaccinations, on=[\"CC_2r\", \"year\"], how=\"outer\")\n",
    "data = pd.merge(data, sanitation, on=[\"CC_2r\", \"year\"], how=\"outer\")"
   ]
  },
  {
   "cell_type": "code",
   "execution_count": 17,
   "metadata": {},
   "outputs": [
    {
     "data": {
      "text/html": [
       "<div>\n",
       "<style scoped>\n",
       "    .dataframe tbody tr th:only-of-type {\n",
       "        vertical-align: middle;\n",
       "    }\n",
       "\n",
       "    .dataframe tbody tr th {\n",
       "        vertical-align: top;\n",
       "    }\n",
       "\n",
       "    .dataframe thead th {\n",
       "        text-align: right;\n",
       "    }\n",
       "</style>\n",
       "<table border=\"1\" class=\"dataframe\">\n",
       "  <thead>\n",
       "    <tr style=\"text-align: right;\">\n",
       "      <th></th>\n",
       "      <th>CC_2r</th>\n",
       "      <th>year</th>\n",
       "      <th>gdp</th>\n",
       "      <th>gva_share_agriculture</th>\n",
       "      <th>gva_share_industry</th>\n",
       "      <th>gva_share_services</th>\n",
       "      <th>gva_share_public</th>\n",
       "      <th>educ_ideb</th>\n",
       "      <th>health_primary_care_coverage</th>\n",
       "      <th>health_doctors_1000</th>\n",
       "      <th>vaccination_index</th>\n",
       "      <th>vaccination_index_5y</th>\n",
       "      <th>urban_population</th>\n",
       "      <th>urban_population_served_water</th>\n",
       "      <th>population_with_sewage</th>\n",
       "    </tr>\n",
       "  </thead>\n",
       "  <tbody>\n",
       "    <tr>\n",
       "      <th>0</th>\n",
       "      <td>110001</td>\n",
       "      <td>1994</td>\n",
       "      <td>NaN</td>\n",
       "      <td>NaN</td>\n",
       "      <td>NaN</td>\n",
       "      <td>NaN</td>\n",
       "      <td>NaN</td>\n",
       "      <td>NaN</td>\n",
       "      <td>NaN</td>\n",
       "      <td>NaN</td>\n",
       "      <td>0.385233</td>\n",
       "      <td>0.385233</td>\n",
       "      <td>NaN</td>\n",
       "      <td>NaN</td>\n",
       "      <td>NaN</td>\n",
       "    </tr>\n",
       "    <tr>\n",
       "      <th>1</th>\n",
       "      <td>110001</td>\n",
       "      <td>1995</td>\n",
       "      <td>NaN</td>\n",
       "      <td>NaN</td>\n",
       "      <td>NaN</td>\n",
       "      <td>NaN</td>\n",
       "      <td>NaN</td>\n",
       "      <td>NaN</td>\n",
       "      <td>NaN</td>\n",
       "      <td>NaN</td>\n",
       "      <td>1.058825</td>\n",
       "      <td>0.673875</td>\n",
       "      <td>NaN</td>\n",
       "      <td>NaN</td>\n",
       "      <td>NaN</td>\n",
       "    </tr>\n",
       "    <tr>\n",
       "      <th>2</th>\n",
       "      <td>110001</td>\n",
       "      <td>1996</td>\n",
       "      <td>NaN</td>\n",
       "      <td>NaN</td>\n",
       "      <td>NaN</td>\n",
       "      <td>NaN</td>\n",
       "      <td>NaN</td>\n",
       "      <td>NaN</td>\n",
       "      <td>NaN</td>\n",
       "      <td>NaN</td>\n",
       "      <td>0.489675</td>\n",
       "      <td>0.612475</td>\n",
       "      <td>NaN</td>\n",
       "      <td>NaN</td>\n",
       "      <td>NaN</td>\n",
       "    </tr>\n",
       "    <tr>\n",
       "      <th>3</th>\n",
       "      <td>110001</td>\n",
       "      <td>1997</td>\n",
       "      <td>NaN</td>\n",
       "      <td>NaN</td>\n",
       "      <td>NaN</td>\n",
       "      <td>NaN</td>\n",
       "      <td>NaN</td>\n",
       "      <td>NaN</td>\n",
       "      <td>NaN</td>\n",
       "      <td>NaN</td>\n",
       "      <td>0.703025</td>\n",
       "      <td>0.635112</td>\n",
       "      <td>NaN</td>\n",
       "      <td>NaN</td>\n",
       "      <td>NaN</td>\n",
       "    </tr>\n",
       "    <tr>\n",
       "      <th>4</th>\n",
       "      <td>110001</td>\n",
       "      <td>1998</td>\n",
       "      <td>NaN</td>\n",
       "      <td>NaN</td>\n",
       "      <td>NaN</td>\n",
       "      <td>NaN</td>\n",
       "      <td>NaN</td>\n",
       "      <td>NaN</td>\n",
       "      <td>NaN</td>\n",
       "      <td>NaN</td>\n",
       "      <td>0.852325</td>\n",
       "      <td>0.678555</td>\n",
       "      <td>NaN</td>\n",
       "      <td>NaN</td>\n",
       "      <td>NaN</td>\n",
       "    </tr>\n",
       "    <tr>\n",
       "      <th>...</th>\n",
       "      <td>...</td>\n",
       "      <td>...</td>\n",
       "      <td>...</td>\n",
       "      <td>...</td>\n",
       "      <td>...</td>\n",
       "      <td>...</td>\n",
       "      <td>...</td>\n",
       "      <td>...</td>\n",
       "      <td>...</td>\n",
       "      <td>...</td>\n",
       "      <td>...</td>\n",
       "      <td>...</td>\n",
       "      <td>...</td>\n",
       "      <td>...</td>\n",
       "      <td>...</td>\n",
       "    </tr>\n",
       "    <tr>\n",
       "      <th>149273</th>\n",
       "      <td>530010</td>\n",
       "      <td>2017</td>\n",
       "      <td>2.447222e+11</td>\n",
       "      <td>0.012610</td>\n",
       "      <td>0.112909</td>\n",
       "      <td>1.145163</td>\n",
       "      <td>0.454554</td>\n",
       "      <td>5.000000</td>\n",
       "      <td>0.583300</td>\n",
       "      <td>3.670500</td>\n",
       "      <td>0.821200</td>\n",
       "      <td>0.950846</td>\n",
       "      <td>2935435.0</td>\n",
       "      <td>2897568.0</td>\n",
       "      <td>2935435.0</td>\n",
       "    </tr>\n",
       "    <tr>\n",
       "      <th>149274</th>\n",
       "      <td>530010</td>\n",
       "      <td>2018</td>\n",
       "      <td>2.548172e+11</td>\n",
       "      <td>0.004523</td>\n",
       "      <td>0.115366</td>\n",
       "      <td>0.503121</td>\n",
       "      <td>0.450162</td>\n",
       "      <td>4.950000</td>\n",
       "      <td>0.612700</td>\n",
       "      <td>3.913399</td>\n",
       "      <td>0.852725</td>\n",
       "      <td>0.923815</td>\n",
       "      <td>2872910.0</td>\n",
       "      <td>2844180.0</td>\n",
       "      <td>2872910.0</td>\n",
       "    </tr>\n",
       "    <tr>\n",
       "      <th>149275</th>\n",
       "      <td>530010</td>\n",
       "      <td>2019</td>\n",
       "      <td>2.736137e+11</td>\n",
       "      <td>0.004085</td>\n",
       "      <td>0.038915</td>\n",
       "      <td>0.515636</td>\n",
       "      <td>0.441364</td>\n",
       "      <td>4.900000</td>\n",
       "      <td>0.533600</td>\n",
       "      <td>3.883734</td>\n",
       "      <td>0.801950</td>\n",
       "      <td>0.903075</td>\n",
       "      <td>2912087.0</td>\n",
       "      <td>2882966.0</td>\n",
       "      <td>2912087.0</td>\n",
       "    </tr>\n",
       "    <tr>\n",
       "      <th>149276</th>\n",
       "      <td>530010</td>\n",
       "      <td>2020</td>\n",
       "      <td>2.658473e+11</td>\n",
       "      <td>0.006756</td>\n",
       "      <td>0.045521</td>\n",
       "      <td>0.048485</td>\n",
       "      <td>0.462877</td>\n",
       "      <td>5.078571</td>\n",
       "      <td>0.587200</td>\n",
       "      <td>4.326917</td>\n",
       "      <td>0.808000</td>\n",
       "      <td>0.924940</td>\n",
       "      <td>2950603.0</td>\n",
       "      <td>2921097.0</td>\n",
       "      <td>2950603.0</td>\n",
       "    </tr>\n",
       "    <tr>\n",
       "      <th>149277</th>\n",
       "      <td>530010</td>\n",
       "      <td>2021</td>\n",
       "      <td>NaN</td>\n",
       "      <td>NaN</td>\n",
       "      <td>NaN</td>\n",
       "      <td>NaN</td>\n",
       "      <td>NaN</td>\n",
       "      <td>5.257143</td>\n",
       "      <td>0.632473</td>\n",
       "      <td>4.691120</td>\n",
       "      <td>0.721075</td>\n",
       "      <td>0.800990</td>\n",
       "      <td>2988438.0</td>\n",
       "      <td>2958554.0</td>\n",
       "      <td>2988438.0</td>\n",
       "    </tr>\n",
       "  </tbody>\n",
       "</table>\n",
       "<p>149278 rows × 15 columns</p>\n",
       "</div>"
      ],
      "text/plain": [
       "         CC_2r  year           gdp  gva_share_agriculture  gva_share_industry  \\\n",
       "0       110001  1994           NaN                    NaN                 NaN   \n",
       "1       110001  1995           NaN                    NaN                 NaN   \n",
       "2       110001  1996           NaN                    NaN                 NaN   \n",
       "3       110001  1997           NaN                    NaN                 NaN   \n",
       "4       110001  1998           NaN                    NaN                 NaN   \n",
       "...        ...   ...           ...                    ...                 ...   \n",
       "149273  530010  2017  2.447222e+11               0.012610            0.112909   \n",
       "149274  530010  2018  2.548172e+11               0.004523            0.115366   \n",
       "149275  530010  2019  2.736137e+11               0.004085            0.038915   \n",
       "149276  530010  2020  2.658473e+11               0.006756            0.045521   \n",
       "149277  530010  2021           NaN                    NaN                 NaN   \n",
       "\n",
       "        gva_share_services  gva_share_public  educ_ideb  \\\n",
       "0                      NaN               NaN        NaN   \n",
       "1                      NaN               NaN        NaN   \n",
       "2                      NaN               NaN        NaN   \n",
       "3                      NaN               NaN        NaN   \n",
       "4                      NaN               NaN        NaN   \n",
       "...                    ...               ...        ...   \n",
       "149273            1.145163          0.454554   5.000000   \n",
       "149274            0.503121          0.450162   4.950000   \n",
       "149275            0.515636          0.441364   4.900000   \n",
       "149276            0.048485          0.462877   5.078571   \n",
       "149277                 NaN               NaN   5.257143   \n",
       "\n",
       "        health_primary_care_coverage  health_doctors_1000  vaccination_index  \\\n",
       "0                                NaN                  NaN           0.385233   \n",
       "1                                NaN                  NaN           1.058825   \n",
       "2                                NaN                  NaN           0.489675   \n",
       "3                                NaN                  NaN           0.703025   \n",
       "4                                NaN                  NaN           0.852325   \n",
       "...                              ...                  ...                ...   \n",
       "149273                      0.583300             3.670500           0.821200   \n",
       "149274                      0.612700             3.913399           0.852725   \n",
       "149275                      0.533600             3.883734           0.801950   \n",
       "149276                      0.587200             4.326917           0.808000   \n",
       "149277                      0.632473             4.691120           0.721075   \n",
       "\n",
       "        vaccination_index_5y  urban_population  urban_population_served_water  \\\n",
       "0                   0.385233               NaN                            NaN   \n",
       "1                   0.673875               NaN                            NaN   \n",
       "2                   0.612475               NaN                            NaN   \n",
       "3                   0.635112               NaN                            NaN   \n",
       "4                   0.678555               NaN                            NaN   \n",
       "...                      ...               ...                            ...   \n",
       "149273              0.950846         2935435.0                      2897568.0   \n",
       "149274              0.923815         2872910.0                      2844180.0   \n",
       "149275              0.903075         2912087.0                      2882966.0   \n",
       "149276              0.924940         2950603.0                      2921097.0   \n",
       "149277              0.800990         2988438.0                      2958554.0   \n",
       "\n",
       "        population_with_sewage  \n",
       "0                          NaN  \n",
       "1                          NaN  \n",
       "2                          NaN  \n",
       "3                          NaN  \n",
       "4                          NaN  \n",
       "...                        ...  \n",
       "149273               2935435.0  \n",
       "149274               2872910.0  \n",
       "149275               2912087.0  \n",
       "149276               2950603.0  \n",
       "149277               2988438.0  \n",
       "\n",
       "[149278 rows x 15 columns]"
      ]
     },
     "execution_count": 17,
     "metadata": {},
     "output_type": "execute_result"
    }
   ],
   "source": [
    "data"
   ]
  },
  {
   "cell_type": "code",
   "execution_count": 18,
   "metadata": {},
   "outputs": [],
   "source": [
    "data.to_parquet('/Users/felixschulz/Library/CloudStorage/OneDrive-Personal/Dokumente/Uni/Masterthesis/data/misc/control_variables.parquet', index=False)"
   ]
  }
 ],
 "metadata": {
  "kernelspec": {
   "display_name": "thesis",
   "language": "python",
   "name": "python3"
  },
  "language_info": {
   "codemirror_mode": {
    "name": "ipython",
    "version": 3
   },
   "file_extension": ".py",
   "mimetype": "text/x-python",
   "name": "python",
   "nbconvert_exporter": "python",
   "pygments_lexer": "ipython3",
   "version": "3.9.-1"
  }
 },
 "nbformat": 4,
 "nbformat_minor": 2
}
