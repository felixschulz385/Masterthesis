{
 "cells": [
  {
   "cell_type": "code",
   "execution_count": 1,
   "metadata": {},
   "outputs": [],
   "source": [
    "import sqlite3\n",
    "import shapely\n",
    "import pandas as pd\n",
    "import geopandas as gpd\n",
    "\n",
    "# connect to database\n",
    "conn = sqlite3.connect('/pfs/work7/workspace/scratch/tu_zxobe27-master_thesis/data/imagery/imagery.db')\n",
    "# get grid data\n",
    "grid_data = pd.read_sql_query(\"SELECT * FROM GridCells WHERE Internal=1\", conn)\n",
    "# get grid geometries\n",
    "grid_geoms = gpd.read_feather(\"/pfs/work7/workspace/scratch/tu_zxobe27-master_thesis/data/imagery/grid_cells.feather\")\n",
    "# merge data\n",
    "grid_data = gpd.GeoDataFrame(grid_data.merge(grid_geoms, on = \"CellID\"))\n",
    "# close connection\n",
    "conn.close()\n",
    "\n",
    "i = 525\n",
    "\n",
    "rivers = gpd.read_feather(\"/pfs/work7/workspace/scratch/tu_zxobe27-master_thesis/data/misc/msc_rivers.feather\")\n",
    "rivers_subset = gpd.clip(rivers, grid_data.to_crs(4326).geometry.iloc[i])"
   ]
  },
  {
   "cell_type": "code",
   "execution_count": 6,
   "metadata": {},
   "outputs": [
    {
     "data": {
      "text/plain": [
       "0"
      ]
     },
     "execution_count": 6,
     "metadata": {},
     "output_type": "execute_result"
    }
   ],
   "source": [
    "import ctypes\n",
    "import numpy as np\n",
    "\n",
    "# Load the shared library\n",
    "lib = ctypes.CDLL('/pfs/work7/workspace/scratch/tu_zxobe27-master_thesis/code/analysis/deforestation_extract.so')\n",
    "\n",
    "# Define the argument and return types for the function\n",
    "lib.calculatePolygons.argtypes = [\n",
    "    ctypes.POINTER(ctypes.c_double), \n",
    "    ctypes.POINTER(ctypes.c_double), \n",
    "    ctypes.c_int, \n",
    "    ctypes.c_double, \n",
    "    ctypes.POINTER(ctypes.POINTER(ctypes.c_double)), \n",
    "    ctypes.POINTER(ctypes.POINTER(ctypes.c_double))\n",
    "]\n",
    "lib.calculatePolygons.restype = None\n",
    "\n",
    "# Define the input data\n",
    "X, Y = np.array(rivers_subset.geometry.iloc[2].coords.xy, dtype = np.double)\n",
    "distance = .005\n",
    "N = len(X)\n",
    "\n",
    "# Call the C++ function\n",
    "polygonsX_ptr = ctypes.POINTER(ctypes.c_double)()\n",
    "polygonsY_ptr = ctypes.POINTER(ctypes.c_double)()\n",
    "lib.calculatePolygons(\n",
    "    X.ctypes.data_as(ctypes.POINTER(ctypes.c_double)), \n",
    "    Y.ctypes.data_as(ctypes.POINTER(ctypes.c_double)), \n",
    "    N, \n",
    "    distance, \n",
    "    ctypes.byref(polygonsX_ptr), \n",
    "    ctypes.byref(polygonsY_ptr)\n",
    ")\n",
    "\n",
    "# Convert the output to numpy arrays\n",
    "polygonsX = np.ctypeslib.as_array(polygonsX_ptr, shape=(N - 3, 6))\n",
    "polygonsY = np.ctypeslib.as_array(polygonsY_ptr, shape=(N - 3, 6))\n",
    "\n",
    "test = np.array([shapely.geometry.Polygon([(polygonsX[i][j], polygonsY[i][j]) for j in range(6)]) for i in range(N - 3)])\n",
    "\n",
    "# Free the allocated memory\n",
    "lib.free(polygonsX_ptr)\n",
    "lib.free(polygonsY_ptr)"
   ]
  },
  {
   "cell_type": "code",
   "execution_count": 7,
   "metadata": {},
   "outputs": [],
   "source": [
    "test_series = gpd.GeoSeries(test).reset_index()"
   ]
  },
  {
   "cell_type": "code",
   "execution_count": 88,
   "metadata": {},
   "outputs": [
    {
     "data": {
      "image/svg+xml": [
       "<svg xmlns=\"http://www.w3.org/2000/svg\" xmlns:xlink=\"http://www.w3.org/1999/xlink\" width=\"100.0\" height=\"100.0\" viewBox=\"-67.8068526931632 -10.786691367367906 0.014067841970870631 0.018436744170937658\" preserveAspectRatio=\"xMinYMin meet\"><g transform=\"matrix(1,0,0,-1,0,-21.554945990564875)\"><path fill-rule=\"evenodd\" fill=\"#66cc99\" stroke=\"#555555\" stroke-width=\"0.00036873488341875315\" opacity=\"0.6\" d=\"M -67.79909884580655,-10.786008524991205 L -67.80263434829652,-10.777472995282437 L -67.80616985078649,-10.76893746557367 L -67.80346762234296,-10.772473008772499 L -67.798467657956,-10.777473024960102 L -67.79346769356903,-10.782473041147705 L -67.79909884580655,-10.786008524991205 z\" /></g></svg>"
      ],
      "text/plain": [
       "<POLYGON ((-67.799 -10.786, -67.803 -10.777, -67.806 -10.769, -67.803 -10.77...>"
      ]
     },
     "execution_count": 88,
     "metadata": {},
     "output_type": "execute_result"
    }
   ],
   "source": [
    "test_series.geometry.iloc[-4]"
   ]
  },
  {
   "cell_type": "code",
   "execution_count": 8,
   "metadata": {},
   "outputs": [
    {
     "data": {
      "text/plain": [
       "<Axes: >"
      ]
     },
     "execution_count": 8,
     "metadata": {},
     "output_type": "execute_result"
    },
    {
     "data": {
      "image/png": "[encoded data removed]",
      "text/plain": [
       "<Figure size 640x480 with 1 Axes>"
      ]
     },
     "metadata": {},
     "output_type": "display_data"
    }
   ],
   "source": [
    "ax = rivers_subset.iloc[[2]].plot(color = \"red\")\n",
    "test_series.plot(ax = ax, edgecolor = \"black\", column = \"index\")"
   ]
  },
  {
   "cell_type": "code",
   "execution_count": null,
   "metadata": {},
   "outputs": [],
   "source": []
  },
  {
   "cell_type": "code",
   "execution_count": 36,
   "metadata": {},
   "outputs": [
    {
     "data": {
      "text/plain": [
       "array([[[-63.54319971, -12.60357447],\n",
       "        [-67.81096781, -10.8358065 ],\n",
       "        [-72.07873591,  -9.06803854],\n",
       "        [-72.07040258,  -9.05966634],\n",
       "        [-67.80263448, -10.82747316],\n",
       "        [-63.53486638, -12.59527998]],\n",
       "\n",
       "       [[-63.53486638, -12.59527998],\n",
       "        [-67.80263448, -10.82747316],\n",
       "        [-72.07040258,  -9.05966634],\n",
       "        [-72.0703943 ,  -9.05549146],\n",
       "        [-67.80263441, -10.82330648],\n",
       "        [-63.53487452, -12.5911215 ]],\n",
       "\n",
       "       [[-63.53487452, -12.5911215 ],\n",
       "        [-67.80263441, -10.82330648],\n",
       "        [-72.0703943 ,  -9.05549146],\n",
       "        [-71.33399438, -10.81913296],\n",
       "        [-67.79846772, -10.81913982],\n",
       "        [-64.26294106, -10.81914669]],\n",
       "\n",
       "       [[-64.26294106, -10.81914669],\n",
       "        [-67.79846772, -10.81913982],\n",
       "        [-71.33399438, -10.81913296],\n",
       "        [-72.07040118, -12.58272463],\n",
       "        [-67.80263441, -10.81497313],\n",
       "        [-63.53486765,  -9.04722163]],\n",
       "\n",
       "       [[-63.53486765,  -9.04722163],\n",
       "        [-67.80263441, -10.81497313],\n",
       "        [-72.07040118, -12.58272463],\n",
       "        [-72.07039934, -12.57855974],\n",
       "        [-67.80263439, -10.81080643],\n",
       "        [-63.53486944,  -9.04305313]],\n",
       "\n",
       "       [[-63.53486944,  -9.04305313],\n",
       "        [-67.80263439, -10.81080643],\n",
       "        [-72.07039934, -12.57855974],\n",
       "        [-72.07873272, -12.57023681],\n",
       "        [-67.81096777, -10.80247307],\n",
       "        [-63.54320282,  -9.03470933]],\n",
       "\n",
       "       [[-63.54320282,  -9.03470933],\n",
       "        [-67.81096777, -10.80247307],\n",
       "        [-72.07873272, -12.57023681],\n",
       "        [-72.07871695,  -9.02218309],\n",
       "        [-67.81096774, -10.789973  ],\n",
       "        [-63.54321853, -12.55776291]],\n",
       "\n",
       "       [[-63.54321853, -12.55776291],\n",
       "        [-67.81096774, -10.789973  ],\n",
       "        [-72.07871695,  -9.02218309],\n",
       "        [-72.07455024,  -9.018026  ],\n",
       "        [-67.80680103, -10.78580638],\n",
       "        [-63.53905182, -12.55358675]],\n",
       "\n",
       "       [[-63.53905182, -12.55358675],\n",
       "        [-67.80680103, -10.78580638],\n",
       "        [-72.07455024,  -9.018026  ],\n",
       "        [-72.07457009,  -9.01387916],\n",
       "        [-67.80680104, -10.78163969],\n",
       "        [-63.53903199, -12.54940023]],\n",
       "\n",
       "       [[-63.53903199, -12.54940023],\n",
       "        [-67.80680104, -10.78163969],\n",
       "        [-72.07457009,  -9.01387916],\n",
       "        [-69.57038559,  -6.50970814],\n",
       "        [-67.80263435, -10.777473  ],\n",
       "        [-66.0348831 , -15.04523785]],\n",
       "\n",
       "       [[-66.0348831 , -15.04523785],\n",
       "        [-67.80263435, -10.777473  ],\n",
       "        [-69.57038559,  -6.50970814],\n",
       "        [-70.29844985,  -8.27746493],\n",
       "        [-67.79846766, -10.77747302],\n",
       "        [-65.29848546, -13.27748112]],\n",
       "\n",
       "       [[-65.29848546, -13.27748112],\n",
       "        [-67.79846766, -10.77747302],\n",
       "        [-70.29844985,  -8.27746493],\n",
       "        [-72.06622581, -12.5369073 ],\n",
       "        [-67.79846763, -10.76913966],\n",
       "        [-63.53070945,  -9.00137203]],\n",
       "\n",
       "       [[-63.53070945,  -9.00137203],\n",
       "        [-67.79846763, -10.76913966],\n",
       "        [-72.06622581, -12.5369073 ],\n",
       "        [-72.07039253, -12.53273144],\n",
       "        [-67.80263435, -10.76497298],\n",
       "        [-63.53487617,  -8.99721452]],\n",
       "\n",
       "       [[-63.53487617,  -8.99721452],\n",
       "        [-67.80263435, -10.76497298],\n",
       "        [-72.07039253, -12.53273144],\n",
       "        [-72.07039629, -12.52439425],\n",
       "        [-67.80263429, -10.75663961],\n",
       "        [-63.5348723 ,  -8.98888496]]])"
      ]
     },
     "execution_count": 36,
     "metadata": {},
     "output_type": "execute_result"
    }
   ],
   "source": [
    "test"
   ]
  },
  {
   "cell_type": "code",
   "execution_count": 35,
   "metadata": {},
   "outputs": [
    {
     "data": {
      "text/plain": [
       "(14, 6, 2)"
      ]
     },
     "execution_count": 35,
     "metadata": {},
     "output_type": "execute_result"
    }
   ],
   "source": [
    "test.shape"
   ]
  }
 ],
 "metadata": {
  "kernelspec": {
   "display_name": "thesis",
   "language": "python",
   "name": "python3"
  },
  "language_info": {
   "codemirror_mode": {
    "name": "ipython",
    "version": 3
   },
   "file_extension": ".py",
   "mimetype": "text/x-python",
   "name": "python",
   "nbconvert_exporter": "python",
   "pygments_lexer": "ipython3",
   "version": "3.9.18"
  }
 },
 "nbformat": 4,
 "nbformat_minor": 2
}
